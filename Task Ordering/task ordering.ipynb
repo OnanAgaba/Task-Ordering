{
 "cells": [
  {
   "cell_type": "markdown",
   "metadata": {},
   "source": [
    "**Step 1:** Use the magic command to create **sorted.py** module containing **sorted steps()** function"
   ]
  },
  {
   "cell_type": "code",
   "execution_count": 1,
   "metadata": {},
   "outputs": [
    {
     "name": "stdout",
     "output_type": "stream",
     "text": [
      "Writing sorted.py\n"
     ]
    }
   ],
   "source": [
    "%%writefile sorted.py\n",
    "\n",
    "from collections import defaultdict\n",
    "\n",
    "def sorted_steps(dependencies):\n",
    "    \"\"\"\n",
    "    Orders tasks respecting prerequisites with alphabetical prioritization.\n",
    "    The parameter dependencies lists two-item where each [X, Y] means X must come before Y.\n",
    "    \"\"\"\n",
    "    # Build the graph and track in-degrees\n",
    "    graph = defaultdict(list)  # Adjacent list for the graph\n",
    "    in_degree = {}  # Dictionary to track the number of prerequisites for each task\n",
    "\n",
    "    # Initialize the graph and in-degree dictionary\n",
    "    for prereq, task in dependencies:\n",
    "        if prereq not in graph:\n",
    "            graph[prereq] = []\n",
    "        if task not in graph:\n",
    "            graph[task] = []\n",
    "        graph[prereq].append(task)\n",
    "        in_degree[task] = in_degree.get(task, 0) + 1\n",
    "        if prereq not in in_degree:\n",
    "            in_degree[prereq] = 0\n",
    "\n",
    "    # Find all tasks with no prerequisites (in-degree == 0)\n",
    "    available_tasks = [task for task in in_degree if in_degree[task] == 0]\n",
    "    available_tasks.sort()  # Sort alphabetically to maintain order\n",
    "\n",
    "    # Process tasks one by one\n",
    "    result = []  # List to store the final order of tasks\n",
    "    while available_tasks:\n",
    "        # Pick the alphabetically first task\n",
    "        current_task = available_tasks.pop(0)\n",
    "        result.append(current_task)\n",
    "\n",
    "        # Reduce the in-degree of its neighbors\n",
    "        for neighbor in graph[current_task]:\n",
    "            in_degree[neighbor] -= 1\n",
    "            if in_degree[neighbor] == 0:  # add to available tasks\n",
    "                available_tasks.append(neighbor)\n",
    "                available_tasks.sort()  # Re-sort to ensure alphabetical order\n",
    "\n",
    "    # Return the result as a string\n",
    "    return ''.join(result)\n"
   ]
  },
  {
   "cell_type": "markdown",
   "metadata": {},
   "source": [
    "**Step 2:** Testing the function "
   ]
  },
  {
   "cell_type": "code",
   "execution_count": 2,
   "metadata": {},
   "outputs": [
    {
     "name": "stdout",
     "output_type": "stream",
     "text": [
      "CABDFE\n"
     ]
    }
   ],
   "source": [
    "from sorted import sorted_steps\n",
    "\n",
    "rule_list = [['C','A'], ['C','F'], ['A','B'], ['A','D'], ['B','E'], ['D','E'], ['F','E']]\n",
    "step_string = sorted_steps(rule_list)\n",
    "print(step_string)\n"
   ]
  }
 ],
 "metadata": {
  "kernelspec": {
   "display_name": "Python 3",
   "language": "python",
   "name": "python3"
  },
  "language_info": {
   "codemirror_mode": {
    "name": "ipython",
    "version": 3
   },
   "file_extension": ".py",
   "mimetype": "text/x-python",
   "name": "python",
   "nbconvert_exporter": "python",
   "pygments_lexer": "ipython3",
   "version": "3.12.3"
  }
 },
 "nbformat": 4,
 "nbformat_minor": 2
}
